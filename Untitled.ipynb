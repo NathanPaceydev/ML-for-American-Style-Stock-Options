{
 "cells": [
  {
   "cell_type": "code",
   "execution_count": null,
   "id": "1c1dd8b5",
   "metadata": {},
   "outputs": [],
   "source": [
    "import numpy as np\n",
    "import tensorflow as tf\n",
    "from tensorflow.keras.layers import Input, GRU, Dropout, Dense\n",
    "from tensorflow.keras.models import Model\n",
    "from tensorflow.keras.optimizers import Adam\n",
    "\n",
    "# Define the RNN model with GRU using the functional API\n",
    "def build_gru_model(input_shape):\n",
    "    inputs = Input(shape=input_shape)\n",
    "    \n",
    "    # GRU layers with return_sequences=True to pass sequences to the next layer\n",
    "    gru1 = GRU(50, return_sequences=True, recurrent_dropout=0.1)(inputs)\n",
    "    gru2 = GRU(50, return_sequences=False, recurrent_dropout=0.1)(gru1)\n",
    "    \n",
    "    # Dropout layer for regularization\n",
    "    dropout = Dropout(0.2)(gru2)\n",
    "    \n",
    "    # Dense layers for predictions\n",
    "    dense1 = Dense(25, activation='relu')(dropout)\n",
    "    outputs = Dense(2, activation='linear')(dense1)  # Predicting bid and ask prices\n",
    "    \n",
    "    model = Model(inputs=inputs, outputs=outputs)\n",
    "    \n",
    "    # Compile the model\n",
    "    model.compile(optimizer=Adam(learning_rate=0.001), loss='mean_squared_error')\n",
    "    \n",
    "    return model"
   ]
  }
 ],
 "metadata": {
  "kernelspec": {
   "display_name": "Python 3 (ipykernel)",
   "language": "python",
   "name": "python3"
  },
  "language_info": {
   "codemirror_mode": {
    "name": "ipython",
    "version": 3
   },
   "file_extension": ".py",
   "mimetype": "text/x-python",
   "name": "python",
   "nbconvert_exporter": "python",
   "pygments_lexer": "ipython3",
   "version": "3.9.7"
  }
 },
 "nbformat": 4,
 "nbformat_minor": 5
}
