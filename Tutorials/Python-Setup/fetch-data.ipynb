{
 "cells": [
  {
   "cell_type": "code",
   "execution_count": 1,
   "metadata": {},
   "outputs": [
    {
     "name": "stdout",
     "output_type": "stream",
     "text": [
      "Requirement already satisfied: yfinance in /home/npacey/.local/lib/python3.8/site-packages (0.2.31)\n",
      "Requirement already satisfied: pandas in /usr/local/lib/python3.8/dist-packages (1.4.2)\n",
      "Requirement already satisfied: numpy>=1.16.5 in /usr/local/lib/python3.8/dist-packages (from yfinance) (1.23.2)\n",
      "Requirement already satisfied: requests>=2.31 in /home/npacey/.local/lib/python3.8/site-packages (from yfinance) (2.31.0)\n",
      "Requirement already satisfied: multitasking>=0.0.7 in /home/npacey/.local/lib/python3.8/site-packages (from yfinance) (0.0.11)\n",
      "Requirement already satisfied: lxml>=4.9.1 in /home/npacey/.local/lib/python3.8/site-packages (from yfinance) (4.9.3)\n",
      "Requirement already satisfied: appdirs>=1.4.4 in /usr/local/lib/python3.8/dist-packages (from yfinance) (1.4.4)\n",
      "Requirement already satisfied: pytz>=2022.5 in /usr/local/lib/python3.8/dist-packages (from yfinance) (2022.7)\n",
      "Requirement already satisfied: frozendict>=2.3.4 in /home/npacey/.local/lib/python3.8/site-packages (from yfinance) (2.3.8)\n",
      "Requirement already satisfied: peewee>=3.16.2 in /home/npacey/.local/lib/python3.8/site-packages (from yfinance) (3.17.0)\n",
      "Requirement already satisfied: beautifulsoup4>=4.11.1 in /home/npacey/.local/lib/python3.8/site-packages (from yfinance) (4.12.2)\n",
      "Requirement already satisfied: html5lib>=1.1 in /home/npacey/.local/lib/python3.8/site-packages (from yfinance) (1.1)\n",
      "Requirement already satisfied: python-dateutil>=2.8.1 in /usr/local/lib/python3.8/dist-packages (from pandas) (2.8.2)\n",
      "Requirement already satisfied: charset-normalizer<4,>=2 in /home/npacey/.local/lib/python3.8/site-packages (from requests>=2.31->yfinance) (3.3.2)\n",
      "Requirement already satisfied: idna<4,>=2.5 in /usr/lib/python3/dist-packages (from requests>=2.31->yfinance) (2.8)\n",
      "Requirement already satisfied: urllib3<3,>=1.21.1 in /usr/lib/python3/dist-packages (from requests>=2.31->yfinance) (1.25.8)\n",
      "Requirement already satisfied: certifi>=2017.4.17 in /usr/local/lib/python3.8/dist-packages (from requests>=2.31->yfinance) (2022.12.7)\n",
      "Requirement already satisfied: soupsieve>1.2 in /home/npacey/.local/lib/python3.8/site-packages (from beautifulsoup4>=4.11.1->yfinance) (2.5)\n",
      "Requirement already satisfied: six>=1.9 in /usr/local/lib/python3.8/dist-packages (from html5lib>=1.1->yfinance) (1.15.0)\n",
      "Requirement already satisfied: webencodings in /home/npacey/.local/lib/python3.8/site-packages (from html5lib>=1.1->yfinance) (0.5.1)\n"
     ]
    }
   ],
   "source": [
    "!pip install yfinance pandas"
   ]
  },
  {
   "cell_type": "code",
   "execution_count": 3,
   "metadata": {},
   "outputs": [
    {
     "name": "stdout",
     "output_type": "stream",
     "text": [
      "Fetching options data for AAPL...\n",
      "Options data for AAPL fetched and saved successfully!\n",
      "\n",
      "Fetching options data for MSFT...\n",
      "Options data for MSFT fetched and saved successfully!\n",
      "\n",
      "Fetching options data for GOOGL...\n",
      "Options data for GOOGL fetched and saved successfully!\n",
      "\n",
      "Fetching options data for AMZN...\n",
      "Options data for AMZN fetched and saved successfully!\n",
      "\n",
      "Fetching options data for FB...\n",
      "Options data for FB fetched and saved successfully!\n",
      "\n"
     ]
    }
   ],
   "source": [
    "import yfinance as yf\n",
    "import pandas as pd\n",
    "from datetime import datetime, timedelta\n",
    "import os\n",
    "\n",
    "# List of large-cap stocks (you can modify this list as per your requirements)\n",
    "large_cap_stocks = ['AAPL', 'MSFT', 'GOOGL', 'AMZN', 'FB']\n",
    "\n",
    "# Define a function to fetch historical options data\n",
    "def fetch_options_data(stock_symbol, start_date, end_date):\n",
    "    stock = yf.Ticker(stock_symbol)\n",
    "    options_data = {}\n",
    "    \n",
    "    # Fetch options expiration dates\n",
    "    exp_dates = stock.options\n",
    "    \n",
    "    # Fetch options data for each expiration date\n",
    "    for date in exp_dates:\n",
    "        if start_date <= date <= end_date:\n",
    "            calls = stock.option_chain(date).calls\n",
    "            puts = stock.option_chain(date).puts\n",
    "            \n",
    "            options_data[date] = {\n",
    "                'calls': calls,\n",
    "                'puts': puts\n",
    "            }\n",
    "            \n",
    "    return options_data\n",
    "\n",
    "# Define the date range (past 10 years)\n",
    "end_date = datetime.today().strftime('%Y-%m-%d')\n",
    "start_date = (datetime.today() - timedelta(days=10*365)).strftime('%Y-%m-%d')\n",
    "\n",
    "# Get the current working directory\n",
    "current_dir = os.getcwd()\n",
    "\n",
    "# Fetch options data for each large-cap stock and save to CSV files in the current directory\n",
    "for stock in large_cap_stocks:\n",
    "    print(f\"Fetching options data for {stock}...\")\n",
    "    options_data = fetch_options_data(stock, start_date, end_date)\n",
    "    \n",
    "    for date, data in options_data.items():\n",
    "        calls_filename = os.path.join(current_dir, f\"{stock}_calls_{date}.csv\")\n",
    "        puts_filename = os.path.join(current_dir, f\"{stock}_puts_{date}.csv\")\n",
    "        \n",
    "        data['calls'].to_csv(calls_filename, index=False)\n",
    "        data['puts'].to_csv(puts_filename, index=False)\n",
    "        \n",
    "        print(f\"Options data for {stock} on {date} saved to {calls_filename} and {puts_filename}\")\n",
    "    \n",
    "    print(f\"Options data for {stock} fetched and saved successfully!\\n\")\n"
   ]
  }
 ],
 "metadata": {
  "kernelspec": {
   "display_name": "Python 3",
   "language": "python",
   "name": "python3"
  },
  "language_info": {
   "codemirror_mode": {
    "name": "ipython",
    "version": 3
   },
   "file_extension": ".py",
   "mimetype": "text/x-python",
   "name": "python",
   "nbconvert_exporter": "python",
   "pygments_lexer": "ipython3",
   "version": "3.8.10"
  }
 },
 "nbformat": 4,
 "nbformat_minor": 2
}
