{
 "cells": [
  {
   "cell_type": "code",
   "execution_count": 3,
   "metadata": {},
   "outputs": [
    {
     "name": "stdout",
     "output_type": "stream",
     "text": [
      "\u001b[33mWARNING: The directory '/home/jovyan/.cache/pip' or its parent directory is not owned or is not writable by the current user. The cache has been disabled. Check the permissions and owner of that directory. If executing pip with sudo, you should use sudo's -H flag.\u001b[0m\u001b[33m\n",
      "\u001b[0mDefaulting to user installation because normal site-packages is not writeable\n",
      "Requirement already satisfied: yfinance in /home/npacey/.local/lib/python3.9/site-packages (0.2.32)\n",
      "Requirement already satisfied: lxml>=4.9.1 in /home/npacey/.local/lib/python3.9/site-packages (from yfinance) (4.9.3)\n",
      "Requirement already satisfied: pytz>=2022.5 in /home/npacey/.local/lib/python3.9/site-packages (from yfinance) (2023.3.post1)\n",
      "Requirement already satisfied: frozendict>=2.3.4 in /home/npacey/.local/lib/python3.9/site-packages (from yfinance) (2.3.9)\n",
      "Requirement already satisfied: html5lib>=1.1 in /home/npacey/.local/lib/python3.9/site-packages (from yfinance) (1.1)\n",
      "Requirement already satisfied: appdirs>=1.4.4 in /opt/conda/lib/python3.9/site-packages (from yfinance) (1.4.4)\n",
      "Requirement already satisfied: numpy>=1.16.5 in /home/npacey/.local/lib/python3.9/site-packages (from yfinance) (1.26.2)\n",
      "Requirement already satisfied: multitasking>=0.0.7 in /home/npacey/.local/lib/python3.9/site-packages (from yfinance) (0.0.11)\n",
      "Requirement already satisfied: beautifulsoup4>=4.11.1 in /home/npacey/.local/lib/python3.9/site-packages (from yfinance) (4.12.2)\n",
      "Requirement already satisfied: peewee>=3.16.2 in /home/npacey/.local/lib/python3.9/site-packages (from yfinance) (3.17.0)\n",
      "Requirement already satisfied: pandas>=1.3.0 in /opt/conda/lib/python3.9/site-packages (from yfinance) (1.3.4)\n",
      "Requirement already satisfied: requests>=2.31 in /home/npacey/.local/lib/python3.9/site-packages (from yfinance) (2.31.0)\n",
      "Requirement already satisfied: soupsieve>1.2 in /opt/conda/lib/python3.9/site-packages (from beautifulsoup4>=4.11.1->yfinance) (2.3)\n",
      "Requirement already satisfied: six>=1.9 in /opt/conda/lib/python3.9/site-packages (from html5lib>=1.1->yfinance) (1.16.0)\n",
      "Requirement already satisfied: webencodings in /opt/conda/lib/python3.9/site-packages (from html5lib>=1.1->yfinance) (0.5.1)\n",
      "Requirement already satisfied: python-dateutil>=2.7.3 in /opt/conda/lib/python3.9/site-packages (from pandas>=1.3.0->yfinance) (2.8.2)\n",
      "Requirement already satisfied: charset-normalizer<4,>=2 in /opt/conda/lib/python3.9/site-packages (from requests>=2.31->yfinance) (2.0.0)\n",
      "Requirement already satisfied: urllib3<3,>=1.21.1 in /opt/conda/lib/python3.9/site-packages (from requests>=2.31->yfinance) (1.26.7)\n",
      "Requirement already satisfied: certifi>=2017.4.17 in /opt/conda/lib/python3.9/site-packages (from requests>=2.31->yfinance) (2022.12.7)\n",
      "Requirement already satisfied: idna<4,>=2.5 in /opt/conda/lib/python3.9/site-packages (from requests>=2.31->yfinance) (3.1)\n",
      "\n",
      "\u001b[1m[\u001b[0m\u001b[34;49mnotice\u001b[0m\u001b[1;39;49m]\u001b[0m\u001b[39;49m A new release of pip is available: \u001b[0m\u001b[31;49m23.0.1\u001b[0m\u001b[39;49m -> \u001b[0m\u001b[32;49m23.3.1\u001b[0m\n",
      "\u001b[1m[\u001b[0m\u001b[34;49mnotice\u001b[0m\u001b[1;39;49m]\u001b[0m\u001b[39;49m To update, run: \u001b[0m\u001b[32;49mpip install --upgrade pip\u001b[0m\n",
      "\u001b[33mWARNING: The directory '/home/jovyan/.cache/pip' or its parent directory is not owned or is not writable by the current user. The cache has been disabled. Check the permissions and owner of that directory. If executing pip with sudo, you should use sudo's -H flag.\u001b[0m\u001b[33m\n",
      "\u001b[0mDefaulting to user installation because normal site-packages is not writeable\n",
      "Requirement already satisfied: pandas in /opt/conda/lib/python3.9/site-packages (1.3.4)\n",
      "Requirement already satisfied: python-dateutil>=2.7.3 in /opt/conda/lib/python3.9/site-packages (from pandas) (2.8.2)\n",
      "Requirement already satisfied: pytz>=2017.3 in /home/npacey/.local/lib/python3.9/site-packages (from pandas) (2023.3.post1)\n",
      "Requirement already satisfied: numpy>=1.17.3 in /home/npacey/.local/lib/python3.9/site-packages (from pandas) (1.26.2)\n",
      "Requirement already satisfied: six>=1.5 in /opt/conda/lib/python3.9/site-packages (from python-dateutil>=2.7.3->pandas) (1.16.0)\n",
      "\n",
      "\u001b[1m[\u001b[0m\u001b[34;49mnotice\u001b[0m\u001b[1;39;49m]\u001b[0m\u001b[39;49m A new release of pip is available: \u001b[0m\u001b[31;49m23.0.1\u001b[0m\u001b[39;49m -> \u001b[0m\u001b[32;49m23.3.1\u001b[0m\n",
      "\u001b[1m[\u001b[0m\u001b[34;49mnotice\u001b[0m\u001b[1;39;49m]\u001b[0m\u001b[39;49m To update, run: \u001b[0m\u001b[32;49mpip install --upgrade pip\u001b[0m\n"
     ]
    }
   ],
   "source": [
    "!pip install yfinance\n",
    "!pip install pandas"
   ]
  },
  {
   "cell_type": "code",
   "execution_count": 4,
   "metadata": {},
   "outputs": [
    {
     "name": "stdout",
     "output_type": "stream",
     "text": [
      "Fetching options data for AAPL...\n",
      "Options data for AAPL fetched successfully!\n",
      "\n",
      "Fetching options data for MSFT...\n",
      "Options data for MSFT fetched successfully!\n",
      "\n",
      "Fetching options data for GOOGL...\n",
      "Options data for GOOGL fetched successfully!\n",
      "\n",
      "Fetching options data for AMZN...\n",
      "Options data for AMZN fetched successfully!\n",
      "\n",
      "Fetching options data for FB...\n",
      "Options data for FB fetched successfully!\n",
      "\n",
      "Displaying calls data for AAPL on 2023-12-01:\n",
      "\n",
      "        contractSymbol             lastTradeDate  strike  lastPrice     bid  \\\n",
      "0  AAPL231201C00050000 2023-11-06 14:41:51+00:00    50.0     127.55  139.15   \n",
      "1  AAPL231201C00075000 2023-10-31 18:17:13+00:00    75.0      95.40  114.20   \n",
      "2  AAPL231201C00085000 2023-11-21 16:41:12+00:00    85.0     105.03  104.10   \n",
      "3  AAPL231201C00100000 2023-11-24 17:43:25+00:00   100.0      89.65   89.55   \n",
      "4  AAPL231201C00125000 2023-11-17 14:53:54+00:00   125.0      64.84   64.15   \n",
      "\n",
      "      ask     change  percentChange  volume  openInterest  impliedVolatility  \\\n",
      "0  140.70   0.000000       0.000000     NaN             0           5.082035   \n",
      "1  115.80   0.000000       0.000000     2.0             0           2.390629   \n",
      "2  105.85   0.000000       0.000000     1.0             0           1.812501   \n",
      "3   90.75  19.500000      27.797577     7.0             0           2.082036   \n",
      "4   65.90  -0.280006      -0.429985     2.0             0           1.218754   \n",
      "\n",
      "   inTheMoney contractSize currency  \n",
      "0        True      REGULAR      USD  \n",
      "1        True      REGULAR      USD  \n",
      "2        True      REGULAR      USD  \n",
      "3        True      REGULAR      USD  \n",
      "4        True      REGULAR      USD  \n"
     ]
    }
   ],
   "source": [
    "import yfinance as yf\n",
    "import pandas as pd\n",
    "\n",
    "# List of large-cap stocks (you can modify this list as per your requirements)\n",
    "large_cap_stocks = ['AAPL', 'MSFT', 'GOOGL', 'AMZN', 'FB']\n",
    "\n",
    "# Define a function to fetch options data\n",
    "def fetch_options_data(stock_symbol):\n",
    "    stock = yf.Ticker(stock_symbol)\n",
    "    options_data = {}\n",
    "    \n",
    "    # Fetch options expiration dates\n",
    "    exp_dates = stock.options\n",
    "    \n",
    "    # Fetch options data for each expiration date\n",
    "    for date in exp_dates:\n",
    "        calls = stock.option_chain(date).calls\n",
    "        puts = stock.option_chain(date).puts\n",
    "        \n",
    "        options_data[date] = {\n",
    "            'calls': calls,\n",
    "            'puts': puts\n",
    "        }\n",
    "        \n",
    "    return options_data\n",
    "\n",
    "# Fetch options data for each large-cap stock\n",
    "options_data_large_cap = {}\n",
    "for stock in large_cap_stocks:\n",
    "    print(f\"Fetching options data for {stock}...\")\n",
    "    options_data_large_cap[stock] = fetch_options_data(stock)\n",
    "    print(f\"Options data for {stock} fetched successfully!\\n\")\n",
    "\n",
    "# Now, options_data_large_cap contains the options data for the specified stocks\n",
    "# You can access the data for a specific stock and expiration date like this:\n",
    "# options_data_large_cap['AAPL']['2023-01-20']['calls']  # Calls data for AAPL on January 20, 2023\n",
    "# options_data_large_cap['AAPL']['2023-01-20']['puts']   # Puts data for AAPL on January 20, 2023\n",
    "\n",
    "# As an example, let's display the calls data for AAPL on the first expiration date\n",
    "first_exp_date = list(options_data_large_cap['AAPL'].keys())[0]\n",
    "print(f\"Displaying calls data for AAPL on {first_exp_date}:\\n\")\n",
    "print(options_data_large_cap['AAPL'][first_exp_date]['calls'].head())\n"
   ]
  },
  {
   "cell_type": "code",
   "execution_count": null,
   "metadata": {},
   "outputs": [],
   "source": []
  }
 ],
 "metadata": {
  "kernelspec": {
   "display_name": "Python 3 (ipykernel)",
   "language": "python",
   "name": "python3"
  },
  "language_info": {
   "codemirror_mode": {
    "name": "ipython",
    "version": 3
   },
   "file_extension": ".py",
   "mimetype": "text/x-python",
   "name": "python",
   "nbconvert_exporter": "python",
   "pygments_lexer": "ipython3",
   "version": "3.9.7"
  }
 },
 "nbformat": 4,
 "nbformat_minor": 2
}
