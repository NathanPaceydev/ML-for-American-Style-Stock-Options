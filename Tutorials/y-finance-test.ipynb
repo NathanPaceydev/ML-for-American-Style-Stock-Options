{
 "cells": [
  {
   "cell_type": "code",
   "execution_count": null,
   "metadata": {},
   "outputs": [],
   "source": [
    "import yfinance as yf\n",
    "import pandas as pd\n",
    "\n",
    "# List of large-cap stocks (you can modify this list as per your requirements)\n",
    "large_cap_stocks = ['AAPL', 'MSFT', 'GOOGL', 'AMZN', 'FB']\n",
    "\n",
    "# Define a function to fetch options data\n",
    "def fetch_options_data(stock_symbol):\n",
    "    stock = yf.Ticker(stock_symbol)\n",
    "    options_data = {}\n",
    "    \n",
    "    # Fetch options expiration dates\n",
    "    exp_dates = stock.options\n",
    "    \n",
    "    # Fetch options data for each expiration date\n",
    "    for date in exp_dates:\n",
    "        calls = stock.option_chain(date).calls\n",
    "        puts = stock.option_chain(date).puts\n",
    "        \n",
    "        options_data[date] = {\n",
    "            'calls': calls,\n",
    "            'puts': puts\n",
    "        }\n",
    "        \n",
    "    return options_data\n",
    "\n",
    "# Fetch options data for each large-cap stock\n",
    "options_data_large_cap = {}\n",
    "for stock in large_cap_stocks:\n",
    "    print(f\"Fetching options data for {stock}...\")\n",
    "    options_data_large_cap[stock] = fetch_options_data(stock)\n",
    "    print(f\"Options data for {stock} fetched successfully!\\n\")\n",
    "\n",
    "# Now, options_data_large_cap contains the options data for the specified stocks\n",
    "# You can access the data for a specific stock and expiration date like this:\n",
    "# options_data_large_cap['AAPL']['2023-01-20']['calls']  # Calls data for AAPL on January 20, 2023\n",
    "# options_data_large_cap['AAPL']['2023-01-20']['puts']   # Puts data for AAPL on January 20, 2023\n",
    "\n",
    "# As an example, let's display the calls data for AAPL on the first expiration date\n",
    "first_exp_date = list(options_data_large_cap['AAPL'].keys())[0]\n",
    "print(f\"Displaying calls data for AAPL on {first_exp_date}:\\n\")\n",
    "print(options_data_large_cap['AAPL'][first_exp_date]['calls'].head())\n"
   ]
  }
 ],
 "metadata": {
  "language_info": {
   "name": "python"
  }
 },
 "nbformat": 4,
 "nbformat_minor": 2
}
