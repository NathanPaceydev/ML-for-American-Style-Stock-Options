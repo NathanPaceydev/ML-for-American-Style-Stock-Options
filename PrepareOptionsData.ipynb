{
 "cells": [
  {
   "cell_type": "code",
   "execution_count": 1,
   "id": "f27c47b9",
   "metadata": {},
   "outputs": [],
   "source": [
    "from datetime import datetime, timedelta\n",
    "from matplotlib import pyplot as plt\n",
    "import numpy as np\n",
    "import pandas as pd\n",
    "\n",
    "#Function to produce training and targets using full dataset tables\n",
    "\n",
    "def produceXYDataSets(ticker, corp, ns_back): \n",
    "    df = pd.read_csv('./optionchaindata/all/'+ticker+'_alldata_'+corp+'.csv.zip', parse_dates=['quoteDate','expiryDate'])\n",
    "    print(\"Dataframe shape from file\",df.shape)\n",
    "    \n",
    "    #basic data cleaning, remove lines where the strike price is more than 50 from the stockprice\n",
    "    df_good = df[ df['strikeDelta'] > -50 ]\n",
    "    print(\"After removing deltastrike bigger than -50\", df_good.shape)\n",
    "\n",
    "    df_good = df_good[ df_good['strikeDelta'] < 50 ]\n",
    "    print(\"After removing deltastrike less than 50\", df_good.shape)\n",
    "\n",
    "    #All contract names to read through\n",
    "    contracts = df_good['contractSymbol'].unique()\n",
    "\n",
    "    x_train = []\n",
    "    y_train = []\n",
    "\n",
    "    #Only look at contracts that have at least 1.5 time as many entries as the look back time\n",
    "    nquotes_min = int(1.5*ns_back)\n",
    "    good_contracts = []\n",
    "\n",
    "    for contract in contracts:\n",
    "        data = df_good[df_good['contractSymbol'] == contract]\n",
    "        \n",
    "        if data.shape[0] < nquotes_min:\n",
    "            continue\n",
    "        \n",
    "        good_contracts.append(contract)\n",
    "        \n",
    "        data['deltaDays'] = data['quoteDate'].diff()\n",
    "        data['weekday'] = data['quoteDate'].dt.dayofweek\n",
    "\n",
    "        ndays = data.shape[0]\n",
    "\n",
    "        for iday in range(ns_back+1, ndays):\n",
    "            #X:\n",
    "            stockPrices = data['stockClose'][iday-ns_back:iday].values\n",
    "            strike = data['strike'].values[iday]\n",
    "            openInterest = data['openInterest'].values[iday]\n",
    "            daysToExpiry = int(data['daysToExpiry'].values[iday].split('days')[0])\n",
    "            deltaDays = data['deltaDays'].values[iday]/ np.timedelta64(1, 'D')\n",
    "            weekday = data['weekday'].values[iday]\n",
    "\n",
    "            features =np.concatenate( [[strike, openInterest, daysToExpiry, deltaDays, weekday], stockPrices] )\n",
    "\n",
    "            #y:\n",
    "            ask = data['ask'].values[iday]\n",
    "            bid = data['bid'].values[iday]\n",
    "\n",
    "            targets = np.array([bid, ask])\n",
    "\n",
    "            #print(weekday,ask,bid,daysToExpiry,deltaDays, strike,stock_prices)\n",
    "            x_train.append(features)\n",
    "            y_train.append(targets)\n",
    "    \n",
    "\n",
    "    x_train = np.array(x_train)\n",
    "    y_train = np.array(y_train)\n",
    "    \n",
    "    print(\"Used\",len(good_contracts),\"contracts total\")\n",
    "    print(\"Done, made data set with\",x_train.shape[0],\"samples\")\n",
    "    \n",
    "    xydata = np.concatenate([x_train,y_train], axis=1)\n",
    "    np.save('./optionchaindata/all/'+ticker+'_'+corp+'_XY.npy',xydata)\n",
    "    \n",
    "    return x_train, y_train\n",
    "\n",
    "   \n"
   ]
  },
  {
   "cell_type": "code",
   "execution_count": 2,
   "id": "9b082ab6",
   "metadata": {},
   "outputs": [
    {
     "name": "stdout",
     "output_type": "stream",
     "text": [
      "Dataframe shape from file (166437, 26)\n",
      "After removing deltastrike bigger than -50 (117353, 26)\n",
      "After removing deltastrike less than 50 (82393, 26)\n"
     ]
    },
    {
     "name": "stderr",
     "output_type": "stream",
     "text": [
      "<ipython-input-1-b378266bf9af>:37: SettingWithCopyWarning: \n",
      "A value is trying to be set on a copy of a slice from a DataFrame.\n",
      "Try using .loc[row_indexer,col_indexer] = value instead\n",
      "\n",
      "See the caveats in the documentation: https://pandas.pydata.org/pandas-docs/stable/user_guide/indexing.html#returning-a-view-versus-a-copy\n",
      "  data['deltaDays'] = data['quoteDate'].diff()\n",
      "<ipython-input-1-b378266bf9af>:38: SettingWithCopyWarning: \n",
      "A value is trying to be set on a copy of a slice from a DataFrame.\n",
      "Try using .loc[row_indexer,col_indexer] = value instead\n",
      "\n",
      "See the caveats in the documentation: https://pandas.pydata.org/pandas-docs/stable/user_guide/indexing.html#returning-a-view-versus-a-copy\n",
      "  data['weekday'] = data['quoteDate'].dt.dayofweek\n"
     ]
    },
    {
     "name": "stdout",
     "output_type": "stream",
     "text": [
      "Used 704 contracts total\n",
      "Done, made data set with 42179 samples\n",
      "(42179, 25) (42179, 2)\n"
     ]
    }
   ],
   "source": [
    "x_train, y_train = produceXYDataSets('AAPL',\"C\",20)\n",
    "print(x_train.shape, y_train.shape)\n",
    "\n"
   ]
  },
  {
   "cell_type": "code",
   "execution_count": 13,
   "id": "ebeb39ef",
   "metadata": {},
   "outputs": [
    {
     "data": {
      "text/plain": [
       "array([172.78999329, 172.55000305, 168.88000488, 167.30000305,\n",
       "       167.30000305, 164.32000732, 160.07000732, 162.74000549,\n",
       "       164.8500061 , 165.11999512, 163.19999695, 166.55999756,\n",
       "       166.22999573, 163.16999817, 159.30000305, 157.44000244,\n",
       "       162.94999695, 158.52000427, 154.72999573, 150.61999512])"
      ]
     },
     "execution_count": 13,
     "metadata": {},
     "output_type": "execute_result"
    }
   ],
   "source": [
    "x_train[0,5:]"
   ]
  },
  {
   "cell_type": "code",
   "execution_count": 14,
   "id": "ea328638",
   "metadata": {},
   "outputs": [
    {
     "name": "stdout",
     "output_type": "stream",
     "text": [
      "[[140. 332.  17.   1.   1.]\n",
      " [140. 424.  16.   1.   2.]\n",
      " [140. 669.  15.   1.   3.]\n",
      " ...\n",
      " [105.  53. 813.   1.   3.]\n",
      " [105.  62. 802.  11.   0.]\n",
      " [105.  63. 801.   1.   1.]]\n",
      "[[172.78999329 172.55000305 168.88000488 ... 158.52000427 154.72999573\n",
      "  150.61999512]\n",
      " [172.55000305 168.88000488 167.30000305 ... 154.72999573 150.61999512\n",
      "  155.08999634]\n",
      " [168.88000488 167.30000305 167.30000305 ... 150.61999512 155.08999634\n",
      "  159.58999634]\n",
      " ...\n",
      " [142.47999573 138.33999634 142.99000549 ... 150.6499939  152.33999634\n",
      "  149.3500061 ]\n",
      " [138.33999634 142.99000549 140.08999634 ... 152.33999634 149.3500061\n",
      "  144.80000305]\n",
      " [142.99000549 140.08999634 140.41999817 ... 149.3500061  144.80000305\n",
      "  138.91999817]]\n"
     ]
    }
   ],
   "source": [
    "x_data = x_train[:,:5]\n",
    "x_stockdata=x_train[:,5:]\n",
    "\n",
    "print(x_data)\n",
    "print(x_stockdata)"
   ]
  },
  {
   "cell_type": "code",
   "execution_count": 17,
   "id": "4d0a227e",
   "metadata": {},
   "outputs": [
    {
     "name": "stdout",
     "output_type": "stream",
     "text": [
      "[[0.87382388 0.86891611 0.79386503 ... 0.58200412 0.50449885 0.42044977]\n",
      " [0.86891611 0.79386503 0.76155416 ... 0.50449885 0.42044977 0.51186082]\n",
      " [0.79386503 0.76155416 0.76155416 ... 0.42044977 0.51186082 0.60388534]\n",
      " ...\n",
      " [0.25398765 0.1693251  0.26441729 ... 0.42106324 0.45562361 0.39447863]\n",
      " [0.1693251  0.26441729 0.20511241 ... 0.45562361 0.39447863 0.30143155]\n",
      " [0.26441729 0.20511241 0.21186091 ... 0.39447863 0.30143155 0.18118607]]\n",
      "[[3.75000000e-01 2.95599836e-03 1.93003619e-02 1.07843137e-01\n",
      "  2.50000000e-01]\n",
      " [3.75000000e-01 3.77513044e-03 1.80940893e-02 1.07843137e-01\n",
      "  5.00000000e-01]\n",
      " [3.75000000e-01 5.95651477e-03 1.68878166e-02 1.07843137e-01\n",
      "  7.50000000e-01]\n",
      " ...\n",
      " [8.33333333e-02 4.71891305e-04 9.79493366e-01 1.07843137e-01\n",
      "  7.50000000e-01]\n",
      " [8.33333333e-02 5.52023790e-04 9.66224367e-01 2.05882353e-01\n",
      "  0.00000000e+00]\n",
      " [8.33333333e-02 5.60927400e-04 9.65018094e-01 1.07843137e-01\n",
      "  2.50000000e-01]]\n"
     ]
    }
   ],
   "source": [
    "from sklearn import preprocessing\n",
    "min_max_scaler_stockdata = preprocessing.MinMaxScaler()\n",
    "min_max_scaler_data = preprocessing.MinMaxScaler()\n",
    "\n",
    "\n",
    "x_stockdata_scaled = min_max_scaler_stockdata.fit_transform(x_stockdata)\n",
    "print(x_stockdata_scaled)\n",
    "\n",
    "x_data_scaled = min_max_scaler_data.fit_transform(x_data)\n",
    "print(x_data_scaled)"
   ]
  },
  {
   "cell_type": "code",
   "execution_count": null,
   "id": "459f8a8e",
   "metadata": {},
   "outputs": [],
   "source": []
  }
 ],
 "metadata": {
  "kernelspec": {
   "display_name": "Python 3 (ipykernel)",
   "language": "python",
   "name": "python3"
  },
  "language_info": {
   "codemirror_mode": {
    "name": "ipython",
    "version": 3
   },
   "file_extension": ".py",
   "mimetype": "text/x-python",
   "name": "python",
   "nbconvert_exporter": "python",
   "pygments_lexer": "ipython3",
   "version": "3.9.7"
  }
 },
 "nbformat": 4,
 "nbformat_minor": 5
}
